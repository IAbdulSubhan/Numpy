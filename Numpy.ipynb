{
 "cells": [
  {
   "cell_type": "markdown",
   "id": "878ffa8f-4d2a-462e-b50c-fb136baaa8f7",
   "metadata": {},
   "source": [
    "# Numpy"
   ]
  },
  {
   "cell_type": "markdown",
   "id": "f5387721-6ee8-425e-93d8-da12910b8c1a",
   "metadata": {},
   "source": [
    "## Important Points\n",
    "* Faster operations — because of its homogeneous nature\n",
    "* Creation of n-dimensional arrays and operations on them"
   ]
  },
  {
   "cell_type": "markdown",
   "id": "718f1576-9852-4d07-ab3c-291bf64d2c4f",
   "metadata": {},
   "source": [
    "### Setting up numPy\n"
   ]
  },
  {
   "cell_type": "code",
   "execution_count": 1,
   "id": "ffc4c3f6-2034-4589-bfbf-e057acf851b9",
   "metadata": {},
   "outputs": [],
   "source": [
    "import numpy as np"
   ]
  },
  {
   "cell_type": "markdown",
   "id": "adfe30ad-6c78-4bd7-a11b-506faa2a2d34",
   "metadata": {},
   "source": [
    "### nd-array\n",
    "The primary reason that numpy is fast is because of the nd-array type that it uses to store and manipulate data\n",
    "An ndarray is a generic multidimensional container for homogenous data"
   ]
  },
  {
   "cell_type": "code",
   "execution_count": 2,
   "id": "0eb8341c-a2fe-43bd-be6e-c700a82b7c0b",
   "metadata": {},
   "outputs": [
    {
     "name": "stdout",
     "output_type": "stream",
     "text": [
      "[1 2 3 4]\n"
     ]
    }
   ],
   "source": [
    "nparray = np.array([1,2,3,4])\n",
    "print(nparray)"
   ]
  },
  {
   "cell_type": "code",
   "execution_count": 3,
   "id": "0b2e76be-4de5-4633-9618-c45dbba94d8a",
   "metadata": {},
   "outputs": [
    {
     "data": {
      "text/plain": [
       "dtype('int64')"
      ]
     },
     "execution_count": 3,
     "metadata": {},
     "output_type": "execute_result"
    }
   ],
   "source": [
    "nparray.dtype"
   ]
  },
  {
   "cell_type": "code",
   "execution_count": 4,
   "id": "95d2c3e9-f98c-4976-9555-d1dbc56a2431",
   "metadata": {},
   "outputs": [
    {
     "data": {
      "text/plain": [
       "4"
      ]
     },
     "execution_count": 4,
     "metadata": {},
     "output_type": "execute_result"
    }
   ],
   "source": [
    "nparray.size"
   ]
  },
  {
   "cell_type": "code",
   "execution_count": 5,
   "id": "f291b885-473d-4f44-b6ed-8107810b0425",
   "metadata": {},
   "outputs": [
    {
     "data": {
      "text/plain": [
       "(4,)"
      ]
     },
     "execution_count": 5,
     "metadata": {},
     "output_type": "execute_result"
    }
   ],
   "source": [
    "nparray.shape"
   ]
  },
  {
   "cell_type": "code",
   "execution_count": 6,
   "id": "964f1a59-e3b4-43fc-9c01-9226c452fb2a",
   "metadata": {},
   "outputs": [
    {
     "data": {
      "text/plain": [
       "32"
      ]
     },
     "execution_count": 6,
     "metadata": {},
     "output_type": "execute_result"
    }
   ],
   "source": [
    "nparray.nbytes"
   ]
  },
  {
   "cell_type": "markdown",
   "id": "f7a0ed9f-d787-4617-a9bf-f40eabc43236",
   "metadata": {},
   "source": [
    "## Comperision of List and Nparray by time complexity"
   ]
  },
  {
   "cell_type": "code",
   "execution_count": 7,
   "id": "0ec7577e-0bd8-47f5-92a5-83ff708f5ef0",
   "metadata": {},
   "outputs": [
    {
     "name": "stdout",
     "output_type": "stream",
     "text": [
      "322 µs ± 28.5 µs per loop (mean ± std. dev. of 7 runs, 1000 loops each)\n"
     ]
    }
   ],
   "source": [
    "%timeit pythonList = [i for i in range(10000)]"
   ]
  },
  {
   "cell_type": "code",
   "execution_count": 8,
   "id": "8d2fff14-ff0d-42db-b828-e33a24980cde",
   "metadata": {},
   "outputs": [
    {
     "name": "stdout",
     "output_type": "stream",
     "text": [
      "4.62 µs ± 76 ns per loop (mean ± std. dev. of 7 runs, 100000 loops each)\n"
     ]
    }
   ],
   "source": [
    " %timeit npList = np.arange(10000)"
   ]
  },
  {
   "cell_type": "markdown",
   "id": "8d2f1353-d83b-4cc6-bc8a-b2db23e2b6fc",
   "metadata": {},
   "source": [
    "### Generating data with numpy\n"
   ]
  },
  {
   "cell_type": "markdown",
   "id": "22fc43f1-d95e-473e-b7cb-0a4504a8ece5",
   "metadata": {},
   "source": [
    "* arange generates a list of numbers within the range of the digit passed"
   ]
  },
  {
   "cell_type": "code",
   "execution_count": 9,
   "id": "0cdc057d-ec00-4d49-973a-2ba5826b77e7",
   "metadata": {},
   "outputs": [
    {
     "data": {
      "text/plain": [
       "array([0, 1, 2, 3, 4, 5, 6, 7, 8, 9])"
      ]
     },
     "execution_count": 9,
     "metadata": {},
     "output_type": "execute_result"
    }
   ],
   "source": [
    "np.arange(10)"
   ]
  },
  {
   "cell_type": "markdown",
   "id": "0e6a904d-9439-4b38-8907-a6d335e3ad68",
   "metadata": {},
   "source": [
    "* **linspace** returns a set of linearly-spaced items within the range passed "
   ]
  },
  {
   "cell_type": "code",
   "execution_count": 10,
   "id": "6f6a00f2-ee96-4757-9576-381e08d50aac",
   "metadata": {},
   "outputs": [
    {
     "data": {
      "text/plain": [
       "array([ 0. ,  2.5,  5. ,  7.5, 10. ])"
      ]
     },
     "execution_count": 10,
     "metadata": {},
     "output_type": "execute_result"
    }
   ],
   "source": [
    "\"\"\"when we pass parameter here there are first 2 parameters which decide the starting and ending value and 3rd parameter decide how much there \n",
    "will be space there in divisio of equallay spaced parameters \"\"\"\n",
    "np.linspace(0, 10, 5)\n"
   ]
  },
  {
   "cell_type": "markdown",
   "id": "f3c8d76b-0aac-4a55-95a1-4170c4126aa4",
   "metadata": {},
   "source": [
    "* ones creates an array filled with ones And zeros creates an array filled with zeroes"
   ]
  },
  {
   "cell_type": "code",
   "execution_count": 11,
   "id": "a90b4e78-859d-4b3e-8c39-ccaba8080ba4",
   "metadata": {},
   "outputs": [
    {
     "data": {
      "text/plain": [
       "array([1., 1., 1., 1., 1.])"
      ]
     },
     "execution_count": 11,
     "metadata": {},
     "output_type": "execute_result"
    }
   ],
   "source": [
    "np.ones(5)"
   ]
  },
  {
   "cell_type": "code",
   "execution_count": 12,
   "id": "0e7af34b-0750-463a-9038-58038750b3db",
   "metadata": {},
   "outputs": [
    {
     "data": {
      "text/plain": [
       "array([0., 0., 0., 0., 0.])"
      ]
     },
     "execution_count": 12,
     "metadata": {},
     "output_type": "execute_result"
    }
   ],
   "source": [
    "np.zeros(5)"
   ]
  },
  {
   "cell_type": "code",
   "execution_count": 13,
   "id": "84c5fba3-972c-43c7-9fee-7dc74b33ee1c",
   "metadata": {},
   "outputs": [
    {
     "data": {
      "text/plain": [
       "array([0, 0, 0, 0, 0])"
      ]
     },
     "execution_count": 13,
     "metadata": {},
     "output_type": "execute_result"
    }
   ],
   "source": [
    "\"\"\"zeros_like creates an array with the same size as the array passed as input. The generated array will have zeros as elements\"\"\"\n",
    "np.zeros_like(np.arange(5))"
   ]
  },
  {
   "cell_type": "markdown",
   "id": "94bfb4c5-894e-4930-8b2b-2f9e640f558f",
   "metadata": {},
   "source": [
    "* **eye** function in Python is used to return a two-dimensional array with ones (1) on the diagonal and zeros (0) elsewhere."
   ]
  },
  {
   "cell_type": "code",
   "execution_count": 14,
   "id": "eaab15c2-f5f3-4e5c-9d15-fb5d1b1b09f1",
   "metadata": {},
   "outputs": [
    {
     "data": {
      "text/plain": [
       "array([[1., 0., 0., 0., 0.],\n",
       "       [0., 1., 0., 0., 0.],\n",
       "       [0., 0., 1., 0., 0.],\n",
       "       [0., 0., 0., 1., 0.],\n",
       "       [0., 0., 0., 0., 1.]])"
      ]
     },
     "execution_count": 14,
     "metadata": {},
     "output_type": "execute_result"
    }
   ],
   "source": [
    "np.eye(5)"
   ]
  },
  {
   "cell_type": "markdown",
   "id": "92f336f3-683f-4011-a50b-32082ead5458",
   "metadata": {},
   "source": [
    "* **empty** creates an array filled with garbage values, usually zeroes. The parameter passed as input is the size of the required array"
   ]
  },
  {
   "cell_type": "code",
   "execution_count": 15,
   "id": "156b5a66-84ec-42b1-bb30-c4a136f2874a",
   "metadata": {},
   "outputs": [
    {
     "data": {
      "text/plain": [
       "array([1., 1., 1., 1., 1.])"
      ]
     },
     "execution_count": 15,
     "metadata": {},
     "output_type": "execute_result"
    }
   ],
   "source": [
    "np.empty(5)"
   ]
  },
  {
   "cell_type": "markdown",
   "id": "67eeeb80-9344-4c07-aeb0-9e8363e70324",
   "metadata": {},
   "source": [
    "### Indexing"
   ]
  },
  {
   "cell_type": "markdown",
   "id": "1163a164-bec4-461c-90ec-65af03204b28",
   "metadata": {},
   "source": [
    "* numpy follows the usual rules of Python when it comes to indexing and slicing."
   ]
  },
  {
   "cell_type": "code",
   "execution_count": 16,
   "id": "0265987d-76e9-4a9a-807c-4cd00dbba652",
   "metadata": {},
   "outputs": [
    {
     "data": {
      "text/plain": [
       "array([1, 2, 3, 4])"
      ]
     },
     "execution_count": 16,
     "metadata": {},
     "output_type": "execute_result"
    }
   ],
   "source": [
    "\"\"\"Indexing\"\"\"\n",
    "nparray"
   ]
  },
  {
   "cell_type": "code",
   "execution_count": 17,
   "id": "031f60e2-6963-4139-a395-17daf3828ff6",
   "metadata": {},
   "outputs": [
    {
     "data": {
      "text/plain": [
       "2"
      ]
     },
     "execution_count": 17,
     "metadata": {},
     "output_type": "execute_result"
    }
   ],
   "source": [
    "nparray[1]"
   ]
  },
  {
   "cell_type": "code",
   "execution_count": 18,
   "id": "8dde2673-e795-43c8-8db6-7d3c726e0497",
   "metadata": {},
   "outputs": [
    {
     "data": {
      "text/plain": [
       "4"
      ]
     },
     "execution_count": 18,
     "metadata": {},
     "output_type": "execute_result"
    }
   ],
   "source": [
    "nparray[-1]"
   ]
  },
  {
   "cell_type": "markdown",
   "id": "d58e9e34-b627-41a8-99cd-dd52aff26282",
   "metadata": {},
   "source": [
    "* **Slicing**"
   ]
  },
  {
   "cell_type": "code",
   "execution_count": 19,
   "id": "64d18c7b-fc1a-4b86-9f19-5dae0e5db7a0",
   "metadata": {},
   "outputs": [
    {
     "data": {
      "text/plain": [
       "array([1, 2, 3, 4])"
      ]
     },
     "execution_count": 19,
     "metadata": {},
     "output_type": "execute_result"
    }
   ],
   "source": [
    "\"\"\"Slicing arrays. Slicing in python means taking elements from one given index to another given index.\n",
    "We pass slice instead of index like this: [start:end] .\"\"\"\n",
    "\n",
    "nparray"
   ]
  },
  {
   "cell_type": "code",
   "execution_count": 20,
   "id": "62b88f18-73e2-46f5-b3dd-91c091d5f069",
   "metadata": {},
   "outputs": [
    {
     "data": {
      "text/plain": [
       "array([2])"
      ]
     },
     "execution_count": 20,
     "metadata": {},
     "output_type": "execute_result"
    }
   ],
   "source": [
    "nparray[1:2]"
   ]
  },
  {
   "cell_type": "code",
   "execution_count": 21,
   "id": "7050e464-43e3-4758-81ba-f3f982d2fc56",
   "metadata": {},
   "outputs": [
    {
     "data": {
      "text/plain": [
       "array([1, 2])"
      ]
     },
     "execution_count": 21,
     "metadata": {},
     "output_type": "execute_result"
    }
   ],
   "source": [
    "nparray[:2]"
   ]
  },
  {
   "cell_type": "code",
   "execution_count": 22,
   "id": "1197f253-33e4-44a7-a30a-0b61865b0951",
   "metadata": {},
   "outputs": [
    {
     "data": {
      "text/plain": [
       "array([1, 2, 3, 4])"
      ]
     },
     "execution_count": 22,
     "metadata": {},
     "output_type": "execute_result"
    }
   ],
   "source": [
    "nparray[:]"
   ]
  },
  {
   "cell_type": "code",
   "execution_count": 23,
   "id": "ad81ada2-57eb-4a21-89b9-78f8bea17184",
   "metadata": {},
   "outputs": [
    {
     "data": {
      "text/plain": [
       "array([2, 3, 4])"
      ]
     },
     "execution_count": 23,
     "metadata": {},
     "output_type": "execute_result"
    }
   ],
   "source": [
    "nparray[1:]"
   ]
  },
  {
   "cell_type": "code",
   "execution_count": 24,
   "id": "1b1fa303-9983-43db-aeee-6882df461d3c",
   "metadata": {},
   "outputs": [],
   "source": [
    "largeArray = np.arange(100)"
   ]
  },
  {
   "cell_type": "code",
   "execution_count": 25,
   "id": "26dc9220-32db-49db-8dd4-fe4c47776a13",
   "metadata": {},
   "outputs": [
    {
     "data": {
      "text/plain": [
       "array([ 0, 20, 40, 60, 80])"
      ]
     },
     "execution_count": 25,
     "metadata": {},
     "output_type": "execute_result"
    }
   ],
   "source": [
    "largeArray[::20]"
   ]
  },
  {
   "cell_type": "code",
   "execution_count": 26,
   "id": "a53b30a6-acf3-44ff-8a04-118b95f3bc2c",
   "metadata": {},
   "outputs": [
    {
     "data": {
      "text/plain": [
       "array([1, 3, 5, 7, 9])"
      ]
     },
     "execution_count": 26,
     "metadata": {},
     "output_type": "execute_result"
    }
   ],
   "source": [
    "largeArray[1:10:2]"
   ]
  },
  {
   "cell_type": "code",
   "execution_count": 27,
   "id": "ce279196-947e-4a98-92c9-32069daefb83",
   "metadata": {},
   "outputs": [
    {
     "data": {
      "text/plain": [
       "array([10,  8,  6,  4,  2])"
      ]
     },
     "execution_count": 27,
     "metadata": {},
     "output_type": "execute_result"
    }
   ],
   "source": [
    "largeArray[10:1:-2]"
   ]
  },
  {
   "cell_type": "markdown",
   "id": "266b1c8d-14fb-45d0-b340-cfd3a679a3cd",
   "metadata": {},
   "source": [
    "An important thing to keep in mind while using slicing in numpy is that the slices are essentially references(views) and hence, \n",
    "any changes that you make to the sliced data will reflect in the parent. Lets look at an example"
   ]
  },
  {
   "cell_type": "code",
   "execution_count": 28,
   "id": "acc13a93-38f8-4657-a0d5-76b62ac3f560",
   "metadata": {},
   "outputs": [],
   "source": [
    "smallArray = largeArray[:10]"
   ]
  },
  {
   "cell_type": "code",
   "execution_count": 29,
   "id": "89de3545-b5c1-451a-b368-a1ce164d1db9",
   "metadata": {},
   "outputs": [
    {
     "data": {
      "text/plain": [
       "array([0, 1, 2, 3, 4, 5, 6, 7, 8, 9])"
      ]
     },
     "execution_count": 29,
     "metadata": {},
     "output_type": "execute_result"
    }
   ],
   "source": [
    "smallArray"
   ]
  },
  {
   "cell_type": "code",
   "execution_count": 30,
   "id": "08ce8b12-5152-4ded-a3ec-0f760c42b721",
   "metadata": {},
   "outputs": [
    {
     "data": {
      "text/plain": [
       "array([0, 1, 2, 3, 4, 5, 6, 7, 8, 9])"
      ]
     },
     "execution_count": 30,
     "metadata": {},
     "output_type": "execute_result"
    }
   ],
   "source": [
    "largeArray[:10]"
   ]
  },
  {
   "cell_type": "code",
   "execution_count": 31,
   "id": "754e7f3b-ac0d-4df1-8e8e-8c83e9d2bbe1",
   "metadata": {},
   "outputs": [],
   "source": [
    "smallArray[0] = 789"
   ]
  },
  {
   "cell_type": "code",
   "execution_count": 32,
   "id": "80f42e57-cd20-4397-ae69-f23c652c449a",
   "metadata": {},
   "outputs": [
    {
     "data": {
      "text/plain": [
       "array([789,   1,   2,   3,   4,   5,   6,   7,   8,   9])"
      ]
     },
     "execution_count": 32,
     "metadata": {},
     "output_type": "execute_result"
    }
   ],
   "source": [
    "smallArray"
   ]
  },
  {
   "cell_type": "code",
   "execution_count": 33,
   "id": "eae063de-a788-4f07-ad7e-54f507de93a3",
   "metadata": {},
   "outputs": [
    {
     "data": {
      "text/plain": [
       "array([789,   1,   2,   3,   4,   5,   6,   7,   8,   9])"
      ]
     },
     "execution_count": 33,
     "metadata": {},
     "output_type": "execute_result"
    }
   ],
   "source": [
    "# You can see the change in the output\n",
    "largeArray[:10]"
   ]
  },
  {
   "cell_type": "markdown",
   "id": "e3b548f6-38c1-4d93-97f3-290d11fb0a46",
   "metadata": {},
   "source": [
    "## Axes"
   ]
  },
  {
   "cell_type": "markdown",
   "id": "967426de-3b4b-45c6-aada-2105d1c91bb0",
   "metadata": {},
   "source": [
    "A numpy array can be multi-dimensional. It also gives you the ability to change an existing array to a shape of your liking provided that it meets multiple constraints\n",
    "* **reshape lets you do exactly what the name says**"
   ]
  },
  {
   "cell_type": "code",
   "execution_count": 34,
   "id": "8088f5e5-e63b-442d-a805-121b720a0fb6",
   "metadata": {},
   "outputs": [
    {
     "data": {
      "text/plain": [
       "array([[1, 2, 3, 4],\n",
       "       [5, 6, 7, 8]])"
      ]
     },
     "execution_count": 34,
     "metadata": {},
     "output_type": "execute_result"
    }
   ],
   "source": [
    "\"\"\"In reshape first attribute shows the number of rows and 2nd shows no of col it return 2D array\"\"\"\n",
    "np.arange(1,9).reshape(2,4)"
   ]
  },
  {
   "cell_type": "code",
   "execution_count": 35,
   "id": "0b907402-bcb0-4903-a682-c1270ace7f4d",
   "metadata": {},
   "outputs": [
    {
     "data": {
      "text/plain": [
       "array([[1, 2, 3]])"
      ]
     },
     "execution_count": 35,
     "metadata": {},
     "output_type": "execute_result"
    }
   ],
   "source": [
    "np.arange(1, 4).reshape(1,3)\n"
   ]
  },
  {
   "cell_type": "markdown",
   "id": "2cf7eb40-ac67-434d-93c4-6f514a1b0c81",
   "metadata": {},
   "source": [
    "* **newaxis** is used to create a new axis in the data"
   ]
  },
  {
   "cell_type": "markdown",
   "id": "814faf02-13fc-4214-8087-63a52258f323",
   "metadata": {},
   "source": [
    "* if the newaxis parameter is in the first position, then a new row vector will be generated "
   ]
  },
  {
   "cell_type": "markdown",
   "id": "3da6ae0d-ffaa-42a0-bdab-bd69a095c818",
   "metadata": {},
   "source": [
    "* If its in the second position, then a column will be created with each of the elements being a separate vector."
   ]
  },
  {
   "cell_type": "code",
   "execution_count": 36,
   "id": "350c0632-d3bc-4ee3-a893-a0e1663faaff",
   "metadata": {},
   "outputs": [
    {
     "data": {
      "text/plain": [
       "array([[1, 2, 3, 4]])"
      ]
     },
     "execution_count": 36,
     "metadata": {},
     "output_type": "execute_result"
    }
   ],
   "source": [
    "\"\"\"When newaxis at first position\"\"\"\n",
    "np.arange(1,5)[np.newaxis, : ]"
   ]
  },
  {
   "cell_type": "code",
   "execution_count": 37,
   "id": "7d34d990-802d-402e-b3e6-f7f74d061403",
   "metadata": {},
   "outputs": [
    {
     "data": {
      "text/plain": [
       "array([[1],\n",
       "       [2],\n",
       "       [3],\n",
       "       [4]])"
      ]
     },
     "execution_count": 37,
     "metadata": {},
     "output_type": "execute_result"
    }
   ],
   "source": [
    "\"\"\"When newaxis at 2nd position\"\"\"\n",
    "np.arange(1,5)[:, np.newaxis ]"
   ]
  },
  {
   "cell_type": "markdown",
   "id": "86388d12-eb2f-4030-abc7-67fa9b728839",
   "metadata": {},
   "source": [
    "## Array Concatenation\n"
   ]
  },
  {
   "cell_type": "markdown",
   "id": "0e30b179-8520-43ea-b68a-452d11ce00b3",
   "metadata": {},
   "source": [
    "Arrays can be concatenated in numpy using the concatenate method. The list of arrays to be concatenated is to be passed as input to the concatenate function."
   ]
  },
  {
   "cell_type": "code",
   "execution_count": 38,
   "id": "93f60f5c-4eaa-4d53-9f16-4ba27b74f943",
   "metadata": {},
   "outputs": [
    {
     "data": {
      "text/plain": [
       "array([789,   1,   2,   3,   4,   5,   6,   7,   8,   9, 789,   1,   2,\n",
       "         3,   4,   5,   6,   7,   8,   9,  10,  11,  12,  13,  14,  15,\n",
       "        16,  17,  18,  19,  20,  21,  22,  23,  24,  25,  26,  27,  28,\n",
       "        29,  30,  31,  32,  33,  34,  35,  36,  37,  38,  39,  40,  41,\n",
       "        42,  43,  44,  45,  46,  47,  48,  49,  50,  51,  52,  53,  54,\n",
       "        55,  56,  57,  58,  59,  60,  61,  62,  63,  64,  65,  66,  67,\n",
       "        68,  69,  70,  71,  72,  73,  74,  75,  76,  77,  78,  79,  80,\n",
       "        81,  82,  83,  84,  85,  86,  87,  88,  89,  90,  91,  92,  93,\n",
       "        94,  95,  96,  97,  98,  99])"
      ]
     },
     "execution_count": 38,
     "metadata": {},
     "output_type": "execute_result"
    }
   ],
   "source": [
    "np.concatenate([smallArray, largeArray])"
   ]
  },
  {
   "cell_type": "code",
   "execution_count": 39,
   "id": "4ecebe63-a78d-4e15-8dec-04a65a5d634c",
   "metadata": {},
   "outputs": [
    {
     "data": {
      "text/plain": [
       "array([1122,  789,    1,    2,    3,    4,    5,    6,    7,    8,    9])"
      ]
     },
     "execution_count": 39,
     "metadata": {},
     "output_type": "execute_result"
    }
   ],
   "source": [
    "np.concatenate([[1122],smallArray])"
   ]
  },
  {
   "cell_type": "markdown",
   "id": "b15c6a82-e9f6-482f-b6e3-ad66a3b7a95a",
   "metadata": {},
   "source": [
    "## Broadcasting\n",
    "Operation of scalar vaue with numpy array"
   ]
  },
  {
   "cell_type": "code",
   "execution_count": 40,
   "id": "f65c2cab-e912-4f62-b872-806bf65313be",
   "metadata": {},
   "outputs": [],
   "source": [
    "a = np.arange(1, 7)"
   ]
  },
  {
   "cell_type": "code",
   "execution_count": 41,
   "id": "ae549b28-87d2-4dd3-8965-b1ad4223a61d",
   "metadata": {},
   "outputs": [
    {
     "data": {
      "text/plain": [
       "array([2, 3, 4, 5, 6, 7])"
      ]
     },
     "execution_count": 41,
     "metadata": {},
     "output_type": "execute_result"
    }
   ],
   "source": [
    "a + 1"
   ]
  },
  {
   "cell_type": "markdown",
   "id": "4b495c76-4206-4fec-bfc2-fb5c366ef04d",
   "metadata": {},
   "source": [
    "## Logical Operations\n",
    "greater than, less than & equal to checks"
   ]
  },
  {
   "cell_type": "code",
   "execution_count": 42,
   "id": "ed06de8b-8ca8-460e-988b-60cdc98d2ebb",
   "metadata": {},
   "outputs": [
    {
     "data": {
      "text/plain": [
       "numpy.ndarray"
      ]
     },
     "execution_count": 42,
     "metadata": {},
     "output_type": "execute_result"
    }
   ],
   "source": [
    "x = np.array([1,3,4,4,5,6])\n",
    "type(x)"
   ]
  },
  {
   "cell_type": "code",
   "execution_count": 43,
   "id": "edd4ac56-52e4-4990-a276-89f09fd39a66",
   "metadata": {},
   "outputs": [
    {
     "data": {
      "text/plain": [
       "array([False, False, False, False, False,  True])"
      ]
     },
     "execution_count": 43,
     "metadata": {},
     "output_type": "execute_result"
    }
   ],
   "source": [
    "x > 5"
   ]
  },
  {
   "cell_type": "code",
   "execution_count": 44,
   "id": "a709d93a-7817-44c9-9ea8-274f26655a44",
   "metadata": {},
   "outputs": [
    {
     "data": {
      "text/plain": [
       "array([False, False,  True,  True, False, False])"
      ]
     },
     "execution_count": 44,
     "metadata": {},
     "output_type": "execute_result"
    }
   ],
   "source": [
    "x == 4"
   ]
  },
  {
   "cell_type": "code",
   "execution_count": 45,
   "id": "5ef56ea7-ea91-4afd-8627-26fd771b1b3e",
   "metadata": {},
   "outputs": [
    {
     "data": {
      "text/plain": [
       "True"
      ]
     },
     "execution_count": 45,
     "metadata": {},
     "output_type": "execute_result"
    }
   ],
   "source": [
    "np.any(x ==  4)"
   ]
  },
  {
   "cell_type": "code",
   "execution_count": 46,
   "id": "5bfae361-afcb-4b3a-bee0-cae20a363d8d",
   "metadata": {},
   "outputs": [
    {
     "data": {
      "text/plain": [
       "False"
      ]
     },
     "execution_count": 46,
     "metadata": {},
     "output_type": "execute_result"
    }
   ],
   "source": [
    "np.all(x == 6)"
   ]
  },
  {
   "cell_type": "markdown",
   "id": "c29560be-9de9-4cdc-8543-0b32416b2f52",
   "metadata": {},
   "source": [
    "* you can use the sum() method as follows. It counts the number of True values in the array"
   ]
  },
  {
   "cell_type": "code",
   "execution_count": 47,
   "id": "edb7988b-1711-4ac2-bad9-a962e8fd34f3",
   "metadata": {},
   "outputs": [
    {
     "data": {
      "text/plain": [
       "2"
      ]
     },
     "execution_count": 47,
     "metadata": {},
     "output_type": "execute_result"
    }
   ],
   "source": [
    " np.sum(x == 4)"
   ]
  },
  {
   "cell_type": "code",
   "execution_count": 48,
   "id": "7b377fc4-3ab7-40c3-a6b6-9d480499589f",
   "metadata": {},
   "outputs": [
    {
     "data": {
      "text/plain": [
       "True"
      ]
     },
     "execution_count": 48,
     "metadata": {},
     "output_type": "execute_result"
    }
   ],
   "source": [
    "np.any((x == 2) | (x == 3))"
   ]
  },
  {
   "cell_type": "markdown",
   "id": "d57b8ef2-1955-4fe5-9a68-5e3b7e746c01",
   "metadata": {},
   "source": [
    "# Masking\n",
    "Masking comes in; the True/False array can be passed into the array to provide only those values which meet the conditions"
   ]
  },
  {
   "cell_type": "code",
   "execution_count": 49,
   "id": "41da8d2a-61ec-45bc-bde9-083bd9a7e785",
   "metadata": {},
   "outputs": [
    {
     "data": {
      "text/plain": [
       "array([4, 4])"
      ]
     },
     "execution_count": 49,
     "metadata": {},
     "output_type": "execute_result"
    }
   ],
   "source": [
    "x[x == 4]"
   ]
  },
  {
   "cell_type": "code",
   "execution_count": 50,
   "id": "e0911686-a93b-4f7e-8dca-67169f1005d3",
   "metadata": {},
   "outputs": [
    {
     "data": {
      "text/plain": [
       "array([3, 4, 4, 5, 6])"
      ]
     },
     "execution_count": 50,
     "metadata": {},
     "output_type": "execute_result"
    }
   ],
   "source": [
    "x[x > 2]"
   ]
  },
  {
   "cell_type": "markdown",
   "id": "0a4ecfd1-1c97-41e3-a7d4-1d7e574d74d8",
   "metadata": {},
   "source": [
    "# Fancy Indexing\n",
    "Fancy indexing is nothing but the ability to access multiple elements of the array at once"
   ]
  },
  {
   "cell_type": "code",
   "execution_count": 54,
   "id": "d3bf47e4-fb3a-43b7-bb7f-38440fd04466",
   "metadata": {},
   "outputs": [
    {
     "data": {
      "text/plain": [
       "array([1, 3, 4, 4, 5, 6])"
      ]
     },
     "execution_count": 54,
     "metadata": {},
     "output_type": "execute_result"
    }
   ],
   "source": [
    "type(x)\n",
    "x"
   ]
  },
  {
   "cell_type": "code",
   "execution_count": 53,
   "id": "2226f9eb-0374-467f-8930-137bc1a34329",
   "metadata": {},
   "outputs": [
    {
     "data": {
      "text/plain": [
       "array([1, 4, 4])"
      ]
     },
     "execution_count": 53,
     "metadata": {},
     "output_type": "execute_result"
    }
   ],
   "source": [
    " x[[0, 2, 3]]"
   ]
  },
  {
   "cell_type": "markdown",
   "id": "c8a990aa-fd38-48bd-b610-922d9ee11121",
   "metadata": {},
   "source": [
    "# Sorting\n",
    " There are 2 ways you can sort a numpy array; in-place and by calling the numpy sort function that returns the sorted array"
   ]
  },
  {
   "cell_type": "code",
   "execution_count": 56,
   "id": "aad7565b-62ff-488f-85d9-185b5cc650d1",
   "metadata": {},
   "outputs": [
    {
     "data": {
      "text/plain": [
       "array([3, 1, 6, 4, 4, 5])"
      ]
     },
     "execution_count": 56,
     "metadata": {},
     "output_type": "execute_result"
    }
   ],
   "source": [
    "\"\"\"Shuffle funcution use to shuffle values randomly\"\"\"\n",
    "np.random.shuffle(x)\n",
    "x"
   ]
  },
  {
   "cell_type": "code",
   "execution_count": 60,
   "id": "0ff8c15a-5deb-4ded-b895-1db29d1dbaa5",
   "metadata": {},
   "outputs": [
    {
     "data": {
      "text/plain": [
       "array([1, 3, 4, 4, 5, 6])"
      ]
     },
     "execution_count": 60,
     "metadata": {},
     "output_type": "execute_result"
    }
   ],
   "source": [
    "\"\"\"First Methode\n",
    "Calling np.sort on the array will return a copy of the array that is sorted and does not sort the array in place as demonstrated below\"\"\"\n",
    "np.sort(x)"
   ]
  },
  {
   "cell_type": "code",
   "execution_count": 61,
   "id": "924096f0-bcf3-48d0-856c-3b98ebe2fe5b",
   "metadata": {},
   "outputs": [
    {
     "data": {
      "text/plain": [
       "array([3, 1, 6, 4, 4, 5])"
      ]
     },
     "execution_count": 61,
     "metadata": {},
     "output_type": "execute_result"
    }
   ],
   "source": [
    "x"
   ]
  },
  {
   "cell_type": "code",
   "execution_count": 63,
   "id": "5a90e733-fa69-4ffc-bab9-656c30d6fcc5",
   "metadata": {},
   "outputs": [],
   "source": [
    "\"\"\"Second Methode \"\"\"\n",
    "x.sort()"
   ]
  },
  {
   "cell_type": "code",
   "execution_count": 64,
   "id": "06bca10c-8b85-489c-aee0-da3bf5cfc120",
   "metadata": {},
   "outputs": [
    {
     "data": {
      "text/plain": [
       "array([1, 3, 4, 4, 5, 6])"
      ]
     },
     "execution_count": 64,
     "metadata": {},
     "output_type": "execute_result"
    }
   ],
   "source": [
    "x"
   ]
  },
  {
   "cell_type": "code",
   "execution_count": null,
   "id": "083e1fd2-8a24-4c7f-a2b9-84978c4e2bb8",
   "metadata": {},
   "outputs": [],
   "source": []
  }
 ],
 "metadata": {
  "kernelspec": {
   "display_name": "Python 3 (ipykernel)",
   "language": "python",
   "name": "python3"
  },
  "language_info": {
   "codemirror_mode": {
    "name": "ipython",
    "version": 3
   },
   "file_extension": ".py",
   "mimetype": "text/x-python",
   "name": "python",
   "nbconvert_exporter": "python",
   "pygments_lexer": "ipython3",
   "version": "3.9.13"
  }
 },
 "nbformat": 4,
 "nbformat_minor": 5
}
